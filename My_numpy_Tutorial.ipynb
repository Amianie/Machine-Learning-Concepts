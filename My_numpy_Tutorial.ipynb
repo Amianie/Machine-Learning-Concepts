{
  "nbformat": 4,
  "nbformat_minor": 0,
  "metadata": {
    "colab": {
      "provenance": [],
      "authorship_tag": "ABX9TyNQtzCaPUbbLmAuoVh2KMVV",
      "include_colab_link": true
    },
    "kernelspec": {
      "name": "python3",
      "display_name": "Python 3"
    },
    "language_info": {
      "name": "python"
    }
  },
  "cells": [
    {
      "cell_type": "markdown",
      "metadata": {
        "id": "view-in-github",
        "colab_type": "text"
      },
      "source": [
        "<a href=\"https://colab.research.google.com/github/Amianie/Machine-Learning-Concepts/blob/Tensorflow/My_numpy_Tutorial.ipynb\" target=\"_parent\"><img src=\"https://colab.research.google.com/assets/colab-badge.svg\" alt=\"Open In Colab\"/></a>"
      ]
    },
    {
      "cell_type": "markdown",
      "source": [
        "This a google NumPy Tutorial.\n"
      ],
      "metadata": {
        "id": "LH6mm4yzAoBi"
      }
    },
    {
      "cell_type": "markdown",
      "source": [
        "#  Import NumPy module"
      ],
      "metadata": {
        "id": "4d4OmWFlBCSV"
      }
    },
    {
      "cell_type": "code",
      "source": [
        "import numpy as np"
      ],
      "metadata": {
        "id": "4KremLTYBMQy"
      },
      "execution_count": 1,
      "outputs": []
    },
    {
      "cell_type": "markdown",
      "source": [
        "## Populate arrays with specific numbers.\n",
        "\n",
        "Call `np.array` to create a numPy array with your own handpicked values.For example this call creates an 8-element array."
      ],
      "metadata": {
        "id": "a-fPB9pTBcmP"
      }
    },
    {
      "cell_type": "code",
      "source": [
        "one_dimensional_array= np.array ([1.2,2.4,3.4,3.2,1.5,5.6,6.7,7.8])\n",
        "print(one_dimensional_array)"
      ],
      "metadata": {
        "colab": {
          "base_uri": "https://localhost:8080/"
        },
        "id": "iUqM283MB-Ie",
        "outputId": "758ec12b-02e7-42fd-e257-0a322e1ff92e"
      },
      "execution_count": 2,
      "outputs": [
        {
          "output_type": "stream",
          "name": "stdout",
          "text": [
            "[1.2 2.4 3.4 3.2 1.5 5.6 6.7 7.8]\n"
          ]
        }
      ]
    },
    {
      "cell_type": "markdown",
      "source": [
        "You can also use `np.array` to create a two-dimensional array. To create a two-dimensional array specify an extra layer of square brackets. For example, the following call creates a 3x2 array:"
      ],
      "metadata": {
        "id": "9g_BNZ4iHTYz"
      }
    },
    {
      "cell_type": "code",
      "source": [
        "two_dimensional_array = np.array([[6, 5], [11, 7], [4, 8]])\n",
        "print(two_dimensional_array)"
      ],
      "metadata": {
        "id": "jtrOa-O9HYkt"
      },
      "execution_count": null,
      "outputs": []
    },
    {
      "cell_type": "markdown",
      "source": [
        "To populate an array with all zeroes, call `np.zeros`. To populate an array with all ones, call `np.ones`."
      ],
      "metadata": {
        "id": "EW49n8NwHiAg"
      }
    },
    {
      "cell_type": "markdown",
      "source": [
        "## Populate arrays with sequences of numbers\n",
        "\n",
        "You can populate an array with a sequence of numbers:"
      ],
      "metadata": {
        "id": "Qq5GcDxjHyhN"
      }
    },
    {
      "cell_type": "code",
      "source": [
        "sequence_of_integers = np.arange(5, 12)\n",
        "print(sequence_of_integers)"
      ],
      "metadata": {
        "id": "0i72qeS8H4hj"
      },
      "execution_count": null,
      "outputs": []
    },
    {
      "cell_type": "markdown",
      "source": [
        "Notice that `np.arange` generates a sequence that includes the lower bound (5) but not the upper bound (12)."
      ],
      "metadata": {
        "id": "6Kq6RLS9IGre"
      }
    },
    {
      "cell_type": "markdown",
      "source": [
        "## Populate arrays with random numbers\n",
        "\n",
        "NumPy provides various functions to populate arrays with random numbers across certain ranges. For example, `np.random.randint` generates random integers between a low and high value. The following call populates a 6-element array with random integers between 50 and 100."
      ],
      "metadata": {
        "id": "lM1YCyaSII6z"
      }
    },
    {
      "cell_type": "code",
      "source": [
        "random_integers_between_50_and_100 = np.random.randint(low=50, high=101, size=(6))\n",
        "print(random_integers_between_50_and_100)"
      ],
      "metadata": {
        "id": "UyGUbKH2IQfA"
      },
      "execution_count": null,
      "outputs": []
    },
    {
      "cell_type": "markdown",
      "source": [
        "Note that the highest generated integer `np.random.randint` is one less than the `high` argument."
      ],
      "metadata": {
        "id": "aiwpdBF7IVeK"
      }
    },
    {
      "cell_type": "markdown",
      "source": [
        "To create random floating-point values between 0.0 and 1.0, call `np.random.random`. For example:"
      ],
      "metadata": {
        "id": "O1cfexAYIazN"
      }
    },
    {
      "cell_type": "code",
      "source": [
        "random_floats_between_0_and_1 = np.random.random([6])\n",
        "print(random_floats_between_0_and_1)"
      ],
      "metadata": {
        "id": "dKYFwGgYIurb"
      },
      "execution_count": null,
      "outputs": []
    },
    {
      "cell_type": "markdown",
      "source": [
        "## Mathematical Operations on NumPy Operands\n",
        "\n",
        "If you want to add or subtract two arrays, linear algebra requires that the two operands have the same dimensions. Furthermore, if you want to multiply two arrays, linear algebra imposes strict rules on the dimensional compatibility of operands. Fortunately, NumPy uses a trick called broadcasting to virtually expand the smaller operand to dimensions compatible for linear algebra. For example, the following operation uses broadcasting to add 2.0 to the value of every item in the array created in the previous code cell:"
      ],
      "metadata": {
        "id": "9DJVSKElI5nP"
      }
    },
    {
      "cell_type": "code",
      "source": [
        "random_floats_between_2_and_3 = random_floats_between_0_and_1 + 2.0\n",
        "print(random_floats_between_2_and_3)"
      ],
      "metadata": {
        "id": "z-16r6AWJDxq"
      },
      "execution_count": null,
      "outputs": []
    },
    {
      "cell_type": "markdown",
      "source": [
        "The following operation also relies on broadcasting to multiply each cell in an array by 3:"
      ],
      "metadata": {
        "id": "L-IfwEpPJIol"
      }
    },
    {
      "cell_type": "code",
      "source": [
        "random_integers_between_150_and_300 = random_integers_between_50_and_100 * 3\n",
        "print(random_integers_between_150_and_300)"
      ],
      "metadata": {
        "id": "wP194LAJJSK3"
      },
      "execution_count": null,
      "outputs": []
    }
  ]
}