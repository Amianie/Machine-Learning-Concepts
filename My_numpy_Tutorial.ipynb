{
  "nbformat": 4,
  "nbformat_minor": 0,
  "metadata": {
    "colab": {
      "provenance": [],
      "authorship_tag": "ABX9TyOWvzUNjvlbVSLcqEzBDCZC",
      "include_colab_link": true
    },
    "kernelspec": {
      "name": "python3",
      "display_name": "Python 3"
    },
    "language_info": {
      "name": "python"
    }
  },
  "cells": [
    {
      "cell_type": "markdown",
      "metadata": {
        "id": "view-in-github",
        "colab_type": "text"
      },
      "source": [
        "<a href=\"https://colab.research.google.com/github/Amianie/Machine-Learning-Concepts/blob/Tensorflow/My_numpy_Tutorial.ipynb\" target=\"_parent\"><img src=\"https://colab.research.google.com/assets/colab-badge.svg\" alt=\"Open In Colab\"/></a>"
      ]
    },
    {
      "cell_type": "markdown",
      "source": [
        "This a google NumPy Tutorial.\n"
      ],
      "metadata": {
        "id": "LH6mm4yzAoBi"
      }
    },
    {
      "cell_type": "markdown",
      "source": [
        "#  Import NumPy module"
      ],
      "metadata": {
        "id": "4d4OmWFlBCSV"
      }
    },
    {
      "cell_type": "code",
      "source": [
        "import numpy as np"
      ],
      "metadata": {
        "id": "4KremLTYBMQy"
      },
      "execution_count": 1,
      "outputs": []
    },
    {
      "cell_type": "markdown",
      "source": [
        "## Populate arrays with specific numbers.\n",
        "\n",
        "Call `np.array` to create a numPy array with your ow handpicked values.For example this call creates an 8-element array."
      ],
      "metadata": {
        "id": "a-fPB9pTBcmP"
      }
    },
    {
      "cell_type": "code",
      "source": [
        "one_dimensional_array= np.array ([1.2,2.4,3.4,3.2,1.5,5.6,6.7,7.8])\n",
        "print(one_dimensional_array)"
      ],
      "metadata": {
        "colab": {
          "base_uri": "https://localhost:8080/"
        },
        "id": "iUqM283MB-Ie",
        "outputId": "758ec12b-02e7-42fd-e257-0a322e1ff92e"
      },
      "execution_count": 2,
      "outputs": [
        {
          "output_type": "stream",
          "name": "stdout",
          "text": [
            "[1.2 2.4 3.4 3.2 1.5 5.6 6.7 7.8]\n"
          ]
        }
      ]
    }
  ]
}